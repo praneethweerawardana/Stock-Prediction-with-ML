{
 "cells": [
  {
   "cell_type": "code",
   "execution_count": 1,
   "id": "f5b645f0",
   "metadata": {},
   "outputs": [
    {
     "name": "stderr",
     "output_type": "stream",
     "text": [
      "WARNING: pip is being invoked by an old script wrapper. This will fail in a future version of pip.\n",
      "Please see https://github.com/pypa/pip/issues/5599 for advice on fixing the underlying issue.\n",
      "To avoid this problem you can invoke Python with '-m pip' instead of running pip directly.\n"
     ]
    },
    {
     "name": "stdout",
     "output_type": "stream",
     "text": [
      "Collecting yfinance\n",
      "  Downloading yfinance-0.2.36-py2.py3-none-any.whl (72 kB)\n",
      "Collecting multitasking>=0.0.7\n",
      "  Downloading multitasking-0.0.11-py3-none-any.whl (8.5 kB)\n",
      "Requirement already satisfied: pandas>=1.3.0 in c:\\users\\praneeth\\anaconda3\\lib\\site-packages (from yfinance) (1.3.4)\n",
      "Requirement already satisfied: appdirs>=1.4.4 in c:\\users\\praneeth\\anaconda3\\lib\\site-packages (from yfinance) (1.4.4)\n",
      "Collecting lxml>=4.9.1\n",
      "  Downloading lxml-5.1.0-cp39-cp39-win_amd64.whl (3.9 MB)\n",
      "Collecting requests>=2.31\n",
      "  Using cached requests-2.31.0-py3-none-any.whl (62 kB)\n"
     ]
    },
    {
     "name": "stderr",
     "output_type": "stream",
     "text": [
      "WARNING: Retrying (Retry(total=4, connect=None, read=None, redirect=None, status=None)) after connection broken by 'ReadTimeoutError(\"HTTPSConnectionPool(host='pypi.org', port=443): Read timed out. (read timeout=15)\")': /simple/peewee/\n"
     ]
    },
    {
     "name": "stdout",
     "output_type": "stream",
     "text": [
      "Collecting peewee>=3.16.2\n",
      "  Downloading peewee-3.17.1.tar.gz (3.0 MB)\n",
      "  Installing build dependencies: started\n",
      "  Installing build dependencies: still running...\n",
      "  Installing build dependencies: finished with status 'done'\n",
      "  Getting requirements to build wheel: started\n",
      "  Getting requirements to build wheel: finished with status 'done'\n",
      "    Preparing wheel metadata: started\n",
      "    Preparing wheel metadata: finished with status 'done'\n",
      "Collecting pytz>=2022.5\n",
      "  Downloading pytz-2024.1-py2.py3-none-any.whl (505 kB)\n",
      "Requirement already satisfied: html5lib>=1.1 in c:\\users\\praneeth\\anaconda3\\lib\\site-packages (from yfinance) (1.1)\n",
      "Collecting beautifulsoup4>=4.11.1\n",
      "  Downloading beautifulsoup4-4.12.3-py3-none-any.whl (147 kB)\n",
      "Collecting frozendict>=2.3.4\n",
      "  Downloading frozendict-2.4.0-cp39-cp39-win_amd64.whl (36 kB)\n",
      "Requirement already satisfied: numpy>=1.16.5 in c:\\users\\praneeth\\anaconda3\\lib\\site-packages (from yfinance) (1.19.5)\n",
      "Requirement already satisfied: soupsieve>1.2 in c:\\users\\praneeth\\anaconda3\\lib\\site-packages (from beautifulsoup4>=4.11.1->yfinance) (2.2.1)\n",
      "Requirement already satisfied: webencodings in c:\\users\\praneeth\\anaconda3\\lib\\site-packages (from html5lib>=1.1->yfinance) (0.5.1)\n",
      "Requirement already satisfied: six>=1.9 in c:\\users\\praneeth\\anaconda3\\lib\\site-packages (from html5lib>=1.1->yfinance) (1.16.0)\n",
      "Requirement already satisfied: python-dateutil>=2.7.3 in c:\\users\\praneeth\\anaconda3\\lib\\site-packages (from pandas>=1.3.0->yfinance) (2.8.2)\n",
      "Requirement already satisfied: idna<4,>=2.5 in c:\\users\\praneeth\\anaconda3\\lib\\site-packages (from requests>=2.31->yfinance) (3.2)\n",
      "Requirement already satisfied: certifi>=2017.4.17 in c:\\users\\praneeth\\anaconda3\\lib\\site-packages (from requests>=2.31->yfinance) (2021.10.8)\n",
      "Requirement already satisfied: charset-normalizer<4,>=2 in c:\\users\\praneeth\\anaconda3\\lib\\site-packages (from requests>=2.31->yfinance) (2.0.4)\n",
      "Requirement already satisfied: urllib3<3,>=1.21.1 in c:\\users\\praneeth\\anaconda3\\lib\\site-packages (from requests>=2.31->yfinance) (1.26.7)\n",
      "Building wheels for collected packages: peewee\n",
      "  Building wheel for peewee (PEP 517): started\n",
      "  Building wheel for peewee (PEP 517): finished with status 'done'\n",
      "  Created wheel for peewee: filename=peewee-3.17.1-py3-none-any.whl size=136948 sha256=4440c0a3797c541672665d2377a703c324dbd00f96b63ee83bb8541c9bbfa11a\n",
      "  Stored in directory: c:\\users\\praneeth\\appdata\\local\\pip\\cache\\wheels\\77\\ca\\43\\00120282a2aa9323dd8da301fb17ea79f84c35fc6faa9f94ea\n",
      "Successfully built peewee\n",
      "Installing collected packages: pytz, requests, peewee, multitasking, lxml, frozendict, beautifulsoup4, yfinance\n",
      "  Attempting uninstall: pytz\n",
      "    Found existing installation: pytz 2021.3\n",
      "    Uninstalling pytz-2021.3:\n",
      "      Successfully uninstalled pytz-2021.3\n",
      "  Attempting uninstall: requests\n",
      "    Found existing installation: requests 2.26.0\n",
      "    Uninstalling requests-2.26.0:\n",
      "      Successfully uninstalled requests-2.26.0\n",
      "  Attempting uninstall: lxml\n",
      "    Found existing installation: lxml 4.6.3\n",
      "    Uninstalling lxml-4.6.3:\n",
      "      Successfully uninstalled lxml-4.6.3\n",
      "  Attempting uninstall: beautifulsoup4\n",
      "    Found existing installation: beautifulsoup4 4.10.0\n",
      "    Uninstalling beautifulsoup4-4.10.0:\n",
      "      Successfully uninstalled beautifulsoup4-4.10.0\n"
     ]
    },
    {
     "name": "stderr",
     "output_type": "stream",
     "text": [
      "ERROR: pip's dependency resolver does not currently take into account all the packages that are installed. This behaviour is the source of the following dependency conflicts.\n",
      "conda-repo-cli 1.0.4 requires pathlib, which is not installed.\n",
      "rasa 3.1.0 requires joblib<1.1.0,>=0.15.1, but you have joblib 1.3.2 which is incompatible.\n",
      "rasa 3.1.0 requires pytz<2022.0,>=2019.1, but you have pytz 2024.1 which is incompatible.\n",
      "rasa 3.1.0 requires scikit-learn<0.25,>=0.22, but you have scikit-learn 1.3.2 which is incompatible.\n",
      "rasa 3.1.0 requires typing-extensions<4.0.0,>=3.7.4, but you have typing-extensions 4.9.0 which is incompatible.\n",
      "rasa-sdk 3.1.1 requires typing-extensions<4.0.0,>=3.7.4, but you have typing-extensions 4.9.0 which is incompatible.\n"
     ]
    },
    {
     "name": "stdout",
     "output_type": "stream",
     "text": [
      "Successfully installed beautifulsoup4-4.12.3 frozendict-2.4.0 lxml-5.1.0 multitasking-0.0.11 peewee-3.17.1 pytz-2024.1 requests-2.31.0 yfinance-0.2.36\n"
     ]
    },
    {
     "data": {
      "text/plain": [
       "0"
      ]
     },
     "execution_count": 1,
     "metadata": {},
     "output_type": "execute_result"
    }
   ],
   "source": [
    "import pip\n",
    "pip.main([\"install\",\"yfinance\"])"
   ]
  },
  {
   "cell_type": "code",
   "execution_count": 2,
   "id": "035f6bc8",
   "metadata": {},
   "outputs": [
    {
     "name": "stdout",
     "output_type": "stream",
     "text": [
      "NumExpr defaulting to 4 threads.\n"
     ]
    }
   ],
   "source": [
    "import yfinance as yf\n",
    "from sklearn.model_selection import train_test_split\n",
    "from sklearn.ensemble import RandomForestRegressor\n",
    "from sklearn.metrics import mean_squared_error\n",
    "import numpy as np\n",
    "import matplotlib.pyplot as plt\n"
   ]
  },
  {
   "cell_type": "code",
   "execution_count": 3,
   "id": "6b1a7d89",
   "metadata": {},
   "outputs": [
    {
     "name": "stderr",
     "output_type": "stream",
     "text": [
      "[*********************100%%**********************]  1 of 1 completed\n"
     ]
    }
   ],
   "source": [
    "df = yf.download(\"AAPL\", start=\"2015-01-01\", end=\"2024-02-13\")"
   ]
  },
  {
   "cell_type": "code",
   "execution_count": 4,
   "id": "a0ef6155",
   "metadata": {},
   "outputs": [
    {
     "data": {
      "text/html": [
       "<div>\n",
       "<style scoped>\n",
       "    .dataframe tbody tr th:only-of-type {\n",
       "        vertical-align: middle;\n",
       "    }\n",
       "\n",
       "    .dataframe tbody tr th {\n",
       "        vertical-align: top;\n",
       "    }\n",
       "\n",
       "    .dataframe thead th {\n",
       "        text-align: right;\n",
       "    }\n",
       "</style>\n",
       "<table border=\"1\" class=\"dataframe\">\n",
       "  <thead>\n",
       "    <tr style=\"text-align: right;\">\n",
       "      <th></th>\n",
       "      <th>Open</th>\n",
       "      <th>High</th>\n",
       "      <th>Low</th>\n",
       "      <th>Close</th>\n",
       "      <th>Adj Close</th>\n",
       "      <th>Volume</th>\n",
       "    </tr>\n",
       "    <tr>\n",
       "      <th>Date</th>\n",
       "      <th></th>\n",
       "      <th></th>\n",
       "      <th></th>\n",
       "      <th></th>\n",
       "      <th></th>\n",
       "      <th></th>\n",
       "    </tr>\n",
       "  </thead>\n",
       "  <tbody>\n",
       "    <tr>\n",
       "      <th>2015-01-02</th>\n",
       "      <td>27.847500</td>\n",
       "      <td>27.860001</td>\n",
       "      <td>26.837500</td>\n",
       "      <td>27.332500</td>\n",
       "      <td>24.435265</td>\n",
       "      <td>212818400</td>\n",
       "    </tr>\n",
       "    <tr>\n",
       "      <th>2015-01-05</th>\n",
       "      <td>27.072500</td>\n",
       "      <td>27.162500</td>\n",
       "      <td>26.352501</td>\n",
       "      <td>26.562500</td>\n",
       "      <td>23.746891</td>\n",
       "      <td>257142000</td>\n",
       "    </tr>\n",
       "    <tr>\n",
       "      <th>2015-01-06</th>\n",
       "      <td>26.635000</td>\n",
       "      <td>26.857500</td>\n",
       "      <td>26.157499</td>\n",
       "      <td>26.565001</td>\n",
       "      <td>23.749125</td>\n",
       "      <td>263188400</td>\n",
       "    </tr>\n",
       "    <tr>\n",
       "      <th>2015-01-07</th>\n",
       "      <td>26.799999</td>\n",
       "      <td>27.049999</td>\n",
       "      <td>26.674999</td>\n",
       "      <td>26.937500</td>\n",
       "      <td>24.082138</td>\n",
       "      <td>160423600</td>\n",
       "    </tr>\n",
       "    <tr>\n",
       "      <th>2015-01-08</th>\n",
       "      <td>27.307501</td>\n",
       "      <td>28.037500</td>\n",
       "      <td>27.174999</td>\n",
       "      <td>27.972500</td>\n",
       "      <td>25.007431</td>\n",
       "      <td>237458000</td>\n",
       "    </tr>\n",
       "    <tr>\n",
       "      <th>2015-01-09</th>\n",
       "      <td>28.167500</td>\n",
       "      <td>28.312500</td>\n",
       "      <td>27.552500</td>\n",
       "      <td>28.002501</td>\n",
       "      <td>25.034250</td>\n",
       "      <td>214798000</td>\n",
       "    </tr>\n",
       "    <tr>\n",
       "      <th>2015-01-12</th>\n",
       "      <td>28.150000</td>\n",
       "      <td>28.157499</td>\n",
       "      <td>27.200001</td>\n",
       "      <td>27.312500</td>\n",
       "      <td>24.417391</td>\n",
       "      <td>198603200</td>\n",
       "    </tr>\n",
       "    <tr>\n",
       "      <th>2015-01-13</th>\n",
       "      <td>27.857500</td>\n",
       "      <td>28.200001</td>\n",
       "      <td>27.227501</td>\n",
       "      <td>27.555000</td>\n",
       "      <td>24.634184</td>\n",
       "      <td>268367600</td>\n",
       "    </tr>\n",
       "    <tr>\n",
       "      <th>2015-01-14</th>\n",
       "      <td>27.260000</td>\n",
       "      <td>27.622499</td>\n",
       "      <td>27.125000</td>\n",
       "      <td>27.450001</td>\n",
       "      <td>24.540314</td>\n",
       "      <td>195826400</td>\n",
       "    </tr>\n",
       "    <tr>\n",
       "      <th>2015-01-15</th>\n",
       "      <td>27.500000</td>\n",
       "      <td>27.514999</td>\n",
       "      <td>26.665001</td>\n",
       "      <td>26.705000</td>\n",
       "      <td>23.874290</td>\n",
       "      <td>240056000</td>\n",
       "    </tr>\n",
       "  </tbody>\n",
       "</table>\n",
       "</div>"
      ],
      "text/plain": [
       "                 Open       High        Low      Close  Adj Close     Volume\n",
       "Date                                                                        \n",
       "2015-01-02  27.847500  27.860001  26.837500  27.332500  24.435265  212818400\n",
       "2015-01-05  27.072500  27.162500  26.352501  26.562500  23.746891  257142000\n",
       "2015-01-06  26.635000  26.857500  26.157499  26.565001  23.749125  263188400\n",
       "2015-01-07  26.799999  27.049999  26.674999  26.937500  24.082138  160423600\n",
       "2015-01-08  27.307501  28.037500  27.174999  27.972500  25.007431  237458000\n",
       "2015-01-09  28.167500  28.312500  27.552500  28.002501  25.034250  214798000\n",
       "2015-01-12  28.150000  28.157499  27.200001  27.312500  24.417391  198603200\n",
       "2015-01-13  27.857500  28.200001  27.227501  27.555000  24.634184  268367600\n",
       "2015-01-14  27.260000  27.622499  27.125000  27.450001  24.540314  195826400\n",
       "2015-01-15  27.500000  27.514999  26.665001  26.705000  23.874290  240056000"
      ]
     },
     "execution_count": 4,
     "metadata": {},
     "output_type": "execute_result"
    }
   ],
   "source": [
    "df.head(10)"
   ]
  },
  {
   "cell_type": "code",
   "execution_count": 6,
   "id": "db1184f4",
   "metadata": {},
   "outputs": [
    {
     "data": {
      "text/plain": [
       "Date\n",
       "2015-01-02     27.332500\n",
       "2015-01-05     26.562500\n",
       "2015-01-06     26.565001\n",
       "2015-01-07     26.937500\n",
       "2015-01-08     27.972500\n",
       "                 ...    \n",
       "2024-02-06    189.300003\n",
       "2024-02-07    189.410004\n",
       "2024-02-08    188.320007\n",
       "2024-02-09    188.850006\n",
       "2024-02-12    187.149994\n",
       "Name: Close, Length: 2293, dtype: float64"
      ]
     },
     "execution_count": 6,
     "metadata": {},
     "output_type": "execute_result"
    }
   ],
   "source": [
    "df[\"Close\"]"
   ]
  },
  {
   "cell_type": "code",
   "execution_count": 11,
   "id": "67236cb9",
   "metadata": {},
   "outputs": [
    {
     "data": {
      "text/html": [
       "<div>\n",
       "<style scoped>\n",
       "    .dataframe tbody tr th:only-of-type {\n",
       "        vertical-align: middle;\n",
       "    }\n",
       "\n",
       "    .dataframe tbody tr th {\n",
       "        vertical-align: top;\n",
       "    }\n",
       "\n",
       "    .dataframe thead th {\n",
       "        text-align: right;\n",
       "    }\n",
       "</style>\n",
       "<table border=\"1\" class=\"dataframe\">\n",
       "  <thead>\n",
       "    <tr style=\"text-align: right;\">\n",
       "      <th></th>\n",
       "      <th>Close</th>\n",
       "    </tr>\n",
       "    <tr>\n",
       "      <th>Date</th>\n",
       "      <th></th>\n",
       "    </tr>\n",
       "  </thead>\n",
       "  <tbody>\n",
       "    <tr>\n",
       "      <th>2015-01-02</th>\n",
       "      <td>27.332500</td>\n",
       "    </tr>\n",
       "    <tr>\n",
       "      <th>2015-01-05</th>\n",
       "      <td>26.562500</td>\n",
       "    </tr>\n",
       "    <tr>\n",
       "      <th>2015-01-06</th>\n",
       "      <td>26.565001</td>\n",
       "    </tr>\n",
       "    <tr>\n",
       "      <th>2015-01-07</th>\n",
       "      <td>26.937500</td>\n",
       "    </tr>\n",
       "    <tr>\n",
       "      <th>2015-01-08</th>\n",
       "      <td>27.972500</td>\n",
       "    </tr>\n",
       "    <tr>\n",
       "      <th>2015-01-09</th>\n",
       "      <td>28.002501</td>\n",
       "    </tr>\n",
       "    <tr>\n",
       "      <th>2015-01-12</th>\n",
       "      <td>27.312500</td>\n",
       "    </tr>\n",
       "    <tr>\n",
       "      <th>2015-01-13</th>\n",
       "      <td>27.555000</td>\n",
       "    </tr>\n",
       "    <tr>\n",
       "      <th>2015-01-14</th>\n",
       "      <td>27.450001</td>\n",
       "    </tr>\n",
       "    <tr>\n",
       "      <th>2015-01-15</th>\n",
       "      <td>26.705000</td>\n",
       "    </tr>\n",
       "  </tbody>\n",
       "</table>\n",
       "</div>"
      ],
      "text/plain": [
       "                Close\n",
       "Date                 \n",
       "2015-01-02  27.332500\n",
       "2015-01-05  26.562500\n",
       "2015-01-06  26.565001\n",
       "2015-01-07  26.937500\n",
       "2015-01-08  27.972500\n",
       "2015-01-09  28.002501\n",
       "2015-01-12  27.312500\n",
       "2015-01-13  27.555000\n",
       "2015-01-14  27.450001\n",
       "2015-01-15  26.705000"
      ]
     },
     "execution_count": 11,
     "metadata": {},
     "output_type": "execute_result"
    }
   ],
   "source": [
    "df = df[\"Close\"].to_frame()\n",
    "df.head(10)"
   ]
  },
  {
   "cell_type": "code",
   "execution_count": 13,
   "id": "abb8e037",
   "metadata": {},
   "outputs": [],
   "source": [
    "df[\"close in 10 days\"] = df[\"Close\"].shift(-10)"
   ]
  },
  {
   "cell_type": "code",
   "execution_count": 14,
   "id": "22dca952",
   "metadata": {},
   "outputs": [
    {
     "data": {
      "text/html": [
       "<div>\n",
       "<style scoped>\n",
       "    .dataframe tbody tr th:only-of-type {\n",
       "        vertical-align: middle;\n",
       "    }\n",
       "\n",
       "    .dataframe tbody tr th {\n",
       "        vertical-align: top;\n",
       "    }\n",
       "\n",
       "    .dataframe thead th {\n",
       "        text-align: right;\n",
       "    }\n",
       "</style>\n",
       "<table border=\"1\" class=\"dataframe\">\n",
       "  <thead>\n",
       "    <tr style=\"text-align: right;\">\n",
       "      <th></th>\n",
       "      <th>Close</th>\n",
       "      <th>close in 10 days</th>\n",
       "    </tr>\n",
       "    <tr>\n",
       "      <th>Date</th>\n",
       "      <th></th>\n",
       "      <th></th>\n",
       "    </tr>\n",
       "  </thead>\n",
       "  <tbody>\n",
       "    <tr>\n",
       "      <th>2024-01-16</th>\n",
       "      <td>183.630005</td>\n",
       "      <td>188.039993</td>\n",
       "    </tr>\n",
       "    <tr>\n",
       "      <th>2024-01-17</th>\n",
       "      <td>182.679993</td>\n",
       "      <td>184.399994</td>\n",
       "    </tr>\n",
       "    <tr>\n",
       "      <th>2024-01-18</th>\n",
       "      <td>188.630005</td>\n",
       "      <td>186.860001</td>\n",
       "    </tr>\n",
       "    <tr>\n",
       "      <th>2024-01-19</th>\n",
       "      <td>191.559998</td>\n",
       "      <td>185.850006</td>\n",
       "    </tr>\n",
       "    <tr>\n",
       "      <th>2024-01-22</th>\n",
       "      <td>193.889999</td>\n",
       "      <td>187.679993</td>\n",
       "    </tr>\n",
       "    <tr>\n",
       "      <th>2024-01-23</th>\n",
       "      <td>195.179993</td>\n",
       "      <td>189.300003</td>\n",
       "    </tr>\n",
       "    <tr>\n",
       "      <th>2024-01-24</th>\n",
       "      <td>194.500000</td>\n",
       "      <td>189.410004</td>\n",
       "    </tr>\n",
       "    <tr>\n",
       "      <th>2024-01-25</th>\n",
       "      <td>194.169998</td>\n",
       "      <td>188.320007</td>\n",
       "    </tr>\n",
       "    <tr>\n",
       "      <th>2024-01-26</th>\n",
       "      <td>192.419998</td>\n",
       "      <td>188.850006</td>\n",
       "    </tr>\n",
       "    <tr>\n",
       "      <th>2024-01-29</th>\n",
       "      <td>191.729996</td>\n",
       "      <td>187.149994</td>\n",
       "    </tr>\n",
       "    <tr>\n",
       "      <th>2024-01-30</th>\n",
       "      <td>188.039993</td>\n",
       "      <td>NaN</td>\n",
       "    </tr>\n",
       "    <tr>\n",
       "      <th>2024-01-31</th>\n",
       "      <td>184.399994</td>\n",
       "      <td>NaN</td>\n",
       "    </tr>\n",
       "    <tr>\n",
       "      <th>2024-02-01</th>\n",
       "      <td>186.860001</td>\n",
       "      <td>NaN</td>\n",
       "    </tr>\n",
       "    <tr>\n",
       "      <th>2024-02-02</th>\n",
       "      <td>185.850006</td>\n",
       "      <td>NaN</td>\n",
       "    </tr>\n",
       "    <tr>\n",
       "      <th>2024-02-05</th>\n",
       "      <td>187.679993</td>\n",
       "      <td>NaN</td>\n",
       "    </tr>\n",
       "    <tr>\n",
       "      <th>2024-02-06</th>\n",
       "      <td>189.300003</td>\n",
       "      <td>NaN</td>\n",
       "    </tr>\n",
       "    <tr>\n",
       "      <th>2024-02-07</th>\n",
       "      <td>189.410004</td>\n",
       "      <td>NaN</td>\n",
       "    </tr>\n",
       "    <tr>\n",
       "      <th>2024-02-08</th>\n",
       "      <td>188.320007</td>\n",
       "      <td>NaN</td>\n",
       "    </tr>\n",
       "    <tr>\n",
       "      <th>2024-02-09</th>\n",
       "      <td>188.850006</td>\n",
       "      <td>NaN</td>\n",
       "    </tr>\n",
       "    <tr>\n",
       "      <th>2024-02-12</th>\n",
       "      <td>187.149994</td>\n",
       "      <td>NaN</td>\n",
       "    </tr>\n",
       "  </tbody>\n",
       "</table>\n",
       "</div>"
      ],
      "text/plain": [
       "                 Close  close in 10 days\n",
       "Date                                    \n",
       "2024-01-16  183.630005        188.039993\n",
       "2024-01-17  182.679993        184.399994\n",
       "2024-01-18  188.630005        186.860001\n",
       "2024-01-19  191.559998        185.850006\n",
       "2024-01-22  193.889999        187.679993\n",
       "2024-01-23  195.179993        189.300003\n",
       "2024-01-24  194.500000        189.410004\n",
       "2024-01-25  194.169998        188.320007\n",
       "2024-01-26  192.419998        188.850006\n",
       "2024-01-29  191.729996        187.149994\n",
       "2024-01-30  188.039993               NaN\n",
       "2024-01-31  184.399994               NaN\n",
       "2024-02-01  186.860001               NaN\n",
       "2024-02-02  185.850006               NaN\n",
       "2024-02-05  187.679993               NaN\n",
       "2024-02-06  189.300003               NaN\n",
       "2024-02-07  189.410004               NaN\n",
       "2024-02-08  188.320007               NaN\n",
       "2024-02-09  188.850006               NaN\n",
       "2024-02-12  187.149994               NaN"
      ]
     },
     "execution_count": 14,
     "metadata": {},
     "output_type": "execute_result"
    }
   ],
   "source": [
    "df.tail(20)"
   ]
  },
  {
   "cell_type": "code",
   "execution_count": 15,
   "id": "009ce168",
   "metadata": {},
   "outputs": [],
   "source": [
    "dfc = df.iloc[:-10,:]"
   ]
  },
  {
   "cell_type": "code",
   "execution_count": 16,
   "id": "658bf9c8",
   "metadata": {},
   "outputs": [],
   "source": [
    "df.reset_index(inplace=True)"
   ]
  },
  {
   "cell_type": "code",
   "execution_count": 17,
   "id": "25e01b7a",
   "metadata": {},
   "outputs": [
    {
     "data": {
      "text/html": [
       "<div>\n",
       "<style scoped>\n",
       "    .dataframe tbody tr th:only-of-type {\n",
       "        vertical-align: middle;\n",
       "    }\n",
       "\n",
       "    .dataframe tbody tr th {\n",
       "        vertical-align: top;\n",
       "    }\n",
       "\n",
       "    .dataframe thead th {\n",
       "        text-align: right;\n",
       "    }\n",
       "</style>\n",
       "<table border=\"1\" class=\"dataframe\">\n",
       "  <thead>\n",
       "    <tr style=\"text-align: right;\">\n",
       "      <th></th>\n",
       "      <th>Date</th>\n",
       "      <th>Close</th>\n",
       "      <th>close in 10 days</th>\n",
       "    </tr>\n",
       "  </thead>\n",
       "  <tbody>\n",
       "    <tr>\n",
       "      <th>0</th>\n",
       "      <td>2015-01-02</td>\n",
       "      <td>27.332500</td>\n",
       "      <td>26.497499</td>\n",
       "    </tr>\n",
       "    <tr>\n",
       "      <th>1</th>\n",
       "      <td>2015-01-05</td>\n",
       "      <td>26.562500</td>\n",
       "      <td>27.180000</td>\n",
       "    </tr>\n",
       "    <tr>\n",
       "      <th>2</th>\n",
       "      <td>2015-01-06</td>\n",
       "      <td>26.565001</td>\n",
       "      <td>27.387501</td>\n",
       "    </tr>\n",
       "    <tr>\n",
       "      <th>3</th>\n",
       "      <td>2015-01-07</td>\n",
       "      <td>26.937500</td>\n",
       "      <td>28.100000</td>\n",
       "    </tr>\n",
       "    <tr>\n",
       "      <th>4</th>\n",
       "      <td>2015-01-08</td>\n",
       "      <td>27.972500</td>\n",
       "      <td>28.245001</td>\n",
       "    </tr>\n",
       "    <tr>\n",
       "      <th>...</th>\n",
       "      <td>...</td>\n",
       "      <td>...</td>\n",
       "      <td>...</td>\n",
       "    </tr>\n",
       "    <tr>\n",
       "      <th>2288</th>\n",
       "      <td>2024-02-06</td>\n",
       "      <td>189.300003</td>\n",
       "      <td>NaN</td>\n",
       "    </tr>\n",
       "    <tr>\n",
       "      <th>2289</th>\n",
       "      <td>2024-02-07</td>\n",
       "      <td>189.410004</td>\n",
       "      <td>NaN</td>\n",
       "    </tr>\n",
       "    <tr>\n",
       "      <th>2290</th>\n",
       "      <td>2024-02-08</td>\n",
       "      <td>188.320007</td>\n",
       "      <td>NaN</td>\n",
       "    </tr>\n",
       "    <tr>\n",
       "      <th>2291</th>\n",
       "      <td>2024-02-09</td>\n",
       "      <td>188.850006</td>\n",
       "      <td>NaN</td>\n",
       "    </tr>\n",
       "    <tr>\n",
       "      <th>2292</th>\n",
       "      <td>2024-02-12</td>\n",
       "      <td>187.149994</td>\n",
       "      <td>NaN</td>\n",
       "    </tr>\n",
       "  </tbody>\n",
       "</table>\n",
       "<p>2293 rows × 3 columns</p>\n",
       "</div>"
      ],
      "text/plain": [
       "           Date       Close  close in 10 days\n",
       "0    2015-01-02   27.332500         26.497499\n",
       "1    2015-01-05   26.562500         27.180000\n",
       "2    2015-01-06   26.565001         27.387501\n",
       "3    2015-01-07   26.937500         28.100000\n",
       "4    2015-01-08   27.972500         28.245001\n",
       "...         ...         ...               ...\n",
       "2288 2024-02-06  189.300003               NaN\n",
       "2289 2024-02-07  189.410004               NaN\n",
       "2290 2024-02-08  188.320007               NaN\n",
       "2291 2024-02-09  188.850006               NaN\n",
       "2292 2024-02-12  187.149994               NaN\n",
       "\n",
       "[2293 rows x 3 columns]"
      ]
     },
     "execution_count": 17,
     "metadata": {},
     "output_type": "execute_result"
    }
   ],
   "source": [
    "df"
   ]
  },
  {
   "cell_type": "code",
   "execution_count": 18,
   "id": "d1b3bf08",
   "metadata": {},
   "outputs": [],
   "source": [
    "x = dfc.iloc[:,0].values.reshape(dfc.shape[0],1)\n",
    "y = dfc.iloc[:,1].values"
   ]
  },
  {
   "cell_type": "code",
   "execution_count": 19,
   "id": "243f90df",
   "metadata": {},
   "outputs": [],
   "source": [
    "x_train,x_test,y_train,y_test = train_test_split(x,y,test_size=0.2,random_state=0)\n"
   ]
  },
  {
   "cell_type": "code",
   "execution_count": 21,
   "id": "8b67a663",
   "metadata": {},
   "outputs": [
    {
     "data": {
      "text/plain": [
       "6.0398674697585175"
      ]
     },
     "execution_count": 21,
     "metadata": {},
     "output_type": "execute_result"
    }
   ],
   "source": [
    "rf = RandomForestRegressor(n_estimators=800)\n",
    "rf.fit(x_train,y_train)\n",
    "y_pred = rf.predict(x_test)\n",
    "np.sqrt(mean_squared_error(y_test,y_pred))"
   ]
  },
  {
   "cell_type": "code",
   "execution_count": 23,
   "id": "d8ae703e",
   "metadata": {},
   "outputs": [
    {
     "data": {
      "text/plain": [
       "array([188.03999329, 184.3999939 , 186.86000061, 185.8500061 ,\n",
       "       187.67999268, 189.30000305, 189.41000366, 188.32000732,\n",
       "       188.8500061 , 187.1499939 ])"
      ]
     },
     "execution_count": 23,
     "metadata": {},
     "output_type": "execute_result"
    }
   ],
   "source": [
    "y_act_10 = dfc.iloc[-10:,:][\"close in 10 days\"].values\n",
    "y_act_10"
   ]
  },
  {
   "cell_type": "code",
   "execution_count": 28,
   "id": "038d18e8",
   "metadata": {},
   "outputs": [],
   "source": [
    "y_pred_10 = rf.predict(dfc.iloc[-10:,:][\"Close\"].values.reshape(10,1))"
   ]
  },
  {
   "cell_type": "code",
   "execution_count": 29,
   "id": "4591c7b7",
   "metadata": {},
   "outputs": [
    {
     "data": {
      "text/plain": [
       "array([188.22901991, 186.99849995, 188.58849958, 188.1095158 ,\n",
       "       190.13459677, 188.94321394, 184.69973308, 190.68506509,\n",
       "       190.22265327, 186.72447361])"
      ]
     },
     "execution_count": 29,
     "metadata": {},
     "output_type": "execute_result"
    }
   ],
   "source": [
    "y_pred_10"
   ]
  },
  {
   "cell_type": "code",
   "execution_count": 30,
   "id": "d6e95000",
   "metadata": {},
   "outputs": [
    {
     "data": {
      "image/png": "[encoded data removed]",
      "text/plain": [
       "<Figure size 432x288 with 1 Axes>"
      ]
     },
     "metadata": {
      "needs_background": "light"
     },
     "output_type": "display_data"
    }
   ],
   "source": [
    "plt.plot(range(1,11),y_pred_10)\n",
    "plt.plot(range(1,11),y_act_10)\n",
    "plt.legend([\"Predicted\",\"Actual\"])\n",
    "plt.title(\"Last 10 days predictions\")\n",
    "plt.show()"
   ]
  }
 ],
 "metadata": {
  "kernelspec": {
   "display_name": "Python 3 (ipykernel)",
   "language": "python",
   "name": "python3"
  },
  "language_info": {
   "codemirror_mode": {
    "name": "ipython",
    "version": 3
   },
   "file_extension": ".py",
   "mimetype": "text/x-python",
   "name": "python",
   "nbconvert_exporter": "python",
   "pygments_lexer": "ipython3",
   "version": "3.9.7"
  }
 },
 "nbformat": 4,
 "nbformat_minor": 5
}
